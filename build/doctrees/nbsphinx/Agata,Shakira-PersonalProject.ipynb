{
 "cells": [
  {
   "cell_type": "markdown",
   "id": "d1f56416-391c-4842-9d59-1f88776d30c6",
   "metadata": {
    "collapsed": true,
    "jupyter": {
     "outputs_hidden": true
    }
   },
   "source": [
    "# Comparison of Preranked Gene Set Enrichment analysis(GSEA), traditional GSEA and fGSEA in Python and R\n",
    "\n",
    "Author: Shakira Agata \n",
    "\n",
    "This Jupyter notebook describes the steps for the execution and comparison of methods: preranked GSEA, traditional GSEA and fGSEA (Fast Gene Set Enrichment Analysis). My goal was to identify the potential difference in outcomes when using three different methods of GSEA: preranked GSEA from GSEApy, traditional GSEA from GSEApy and fGSEA from Bioconductor(1,2). I did this by comparing the outcomes in identified pathways, calculated Enrichment Scores (ES) and Normalized Enrichment Scores for the three methods. The comparison was made using the data for Ag+ and control at 24 hours from ArrayExpress dataset: E-MEXP-3583. This dataset looked at  the effect of Ag+ and AgNPs on the gene expression in a human lung epithelial cell line A549. \n",
    "\n",
    "This notebook is subdivided into the following two sections:\n",
    "\n",
    "* Section 1: Preranked GSEA\n",
    "  * Section 1.1: System preparation\n",
    "  * Section 1.2: Generation of the RNK file\n",
    "  * Section 1.3: Selection of the geneset\n",
    "  * Section 1.4: Execution of GSEA\n",
    "* Section 2: Traditional GSEA\n",
    "  * Section 2.1: Generation of expression data frame\n",
    "  * Section 2.2: Generation of the CLS file\n",
    "  * Section 2.3: Selection of the geneset\n",
    "  * Section 2.4: Execution of GSEA\n",
    "* Section 3: fGSEA\n",
    "  * Section 3.1 Magic R extension and system preparation\n",
    "  * Section 3.2 Execution of fGSEA\n",
    "* Section 4: Session information for Python and R\n",
    "  * Section 4.1: Python session information\n",
    "  * Section 4.2: R session information"
   ]
  },
  {
   "cell_type": "markdown",
   "id": "4205aa02-0287-4d9a-9d08-f57dc3b114c3",
   "metadata": {},
   "source": [
    "## Section 1: Preranked GSEA"
   ]
  },
  {
   "cell_type": "markdown",
   "id": "e6046535-4348-4aea-8277-a4ec3de935fb",
   "metadata": {},
   "source": [
    "In this section, the preranked GSEA method will be used which allows users to select the ranking method for the comparison of two group of samples (e.g control and treatment). In this case, the differential gene expression results for the comparison of Ag+ to the control at 24h was used to allow for the calculation of the ranking by the log2FC. This ranking method is used in the formal documentation of GSEA and can be used as option in fGSEA and Clusterprofiler GSEA in Rstudio (1)."
   ]
  },
  {
   "cell_type": "markdown",
   "id": "36049303-1f2e-485d-b064-8399053c25f9",
   "metadata": {},
   "source": [
    "### Section 1.1: System preparation"
   ]
  },
  {
   "cell_type": "markdown",
   "id": "f724e382-75b0-4810-8490-ccc80c36da5c",
   "metadata": {},
   "source": [
    "**Step 1.** The necessary packages for using this pipeline are first installed."
   ]
  },
  {
   "cell_type": "code",
   "execution_count": null,
   "id": "c6a4210f-1bc7-48d5-aadd-4a322f79be52",
   "metadata": {},
   "outputs": [],
   "source": [
    "import pandas as pd\n",
    "from gseapy.plot import gseaplot\n",
    "import gseapy as gp\n",
    "import numpy as np\n",
    "import matplotlib.pyplot as plt\n",
    "from gseapy import dotplot\n",
    "pip install watermark"
   ]
  },
  {
   "cell_type": "markdown",
   "id": "e1aed12e-3d61-480f-9f55-537c1261e1a5",
   "metadata": {},
   "source": [
    "### Section 1.2: Generation of the RNK file"
   ]
  },
  {
   "cell_type": "markdown",
   "id": "c34b56ea-2da2-44cc-86a4-c50c5a1bf6b4",
   "metadata": {},
   "source": [
    "**Step 2.** Next, you load the data from E-MEXP3583 into a dataframe."
   ]
  },
  {
   "cell_type": "code",
   "execution_count": null,
   "id": "1a2bb5d5-a245-4ddd-92ff-5e4f7ea483ce",
   "metadata": {},
   "outputs": [
    {
     "data": {
      "text/html": [
       "<div>\n",
       "<style scoped>\n",
       "    .dataframe tbody tr th:only-of-type {\n",
       "        vertical-align: middle;\n",
       "    }\n",
       "\n",
       "    .dataframe tbody tr th {\n",
       "        vertical-align: top;\n",
       "    }\n",
       "\n",
       "    .dataframe thead th {\n",
       "        text-align: right;\n",
       "    }\n",
       "</style>\n",
       "<table border=\"1\" class=\"dataframe\">\n",
       "  <thead>\n",
       "    <tr style=\"text-align: right;\">\n",
       "      <th></th>\n",
       "      <th>GeneID</th>\n",
       "      <th>meanExpr</th>\n",
       "      <th>log2FC</th>\n",
       "      <th>log2FC SE</th>\n",
       "      <th>p-value</th>\n",
       "      <th>adjpvalue</th>\n",
       "    </tr>\n",
       "  </thead>\n",
       "  <tbody>\n",
       "    <tr>\n",
       "      <th>0</th>\n",
       "      <td>4490</td>\n",
       "      <td>9.925881</td>\n",
       "      <td>3.935193</td>\n",
       "      <td>0.206737</td>\n",
       "      <td>9.842270e-11</td>\n",
       "      <td>0.000002</td>\n",
       "    </tr>\n",
       "    <tr>\n",
       "      <th>1</th>\n",
       "      <td>4495</td>\n",
       "      <td>9.561522</td>\n",
       "      <td>4.109887</td>\n",
       "      <td>0.243653</td>\n",
       "      <td>3.924060e-10</td>\n",
       "      <td>0.000004</td>\n",
       "    </tr>\n",
       "    <tr>\n",
       "      <th>2</th>\n",
       "      <td>79974</td>\n",
       "      <td>6.381454</td>\n",
       "      <td>2.532636</td>\n",
       "      <td>0.174021</td>\n",
       "      <td>2.094514e-09</td>\n",
       "      <td>0.000011</td>\n",
       "    </tr>\n",
       "    <tr>\n",
       "      <th>3</th>\n",
       "      <td>4489</td>\n",
       "      <td>12.843381</td>\n",
       "      <td>2.498127</td>\n",
       "      <td>0.172052</td>\n",
       "      <td>2.150589e-09</td>\n",
       "      <td>0.000011</td>\n",
       "    </tr>\n",
       "    <tr>\n",
       "      <th>4</th>\n",
       "      <td>1638</td>\n",
       "      <td>6.429810</td>\n",
       "      <td>2.349836</td>\n",
       "      <td>0.170834</td>\n",
       "      <td>3.954792e-09</td>\n",
       "      <td>0.000016</td>\n",
       "    </tr>\n",
       "    <tr>\n",
       "      <th>...</th>\n",
       "      <td>...</td>\n",
       "      <td>...</td>\n",
       "      <td>...</td>\n",
       "      <td>...</td>\n",
       "      <td>...</td>\n",
       "      <td>...</td>\n",
       "    </tr>\n",
       "    <tr>\n",
       "      <th>20513</th>\n",
       "      <td>391257</td>\n",
       "      <td>6.462645</td>\n",
       "      <td>-0.000055</td>\n",
       "      <td>0.146291</td>\n",
       "      <td>9.996750e-01</td>\n",
       "      <td>0.999870</td>\n",
       "    </tr>\n",
       "    <tr>\n",
       "      <th>20514</th>\n",
       "      <td>10078</td>\n",
       "      <td>8.351476</td>\n",
       "      <td>-0.000037</td>\n",
       "      <td>0.128166</td>\n",
       "      <td>9.997478e-01</td>\n",
       "      <td>0.999894</td>\n",
       "    </tr>\n",
       "    <tr>\n",
       "      <th>20515</th>\n",
       "      <td>84328</td>\n",
       "      <td>9.130185</td>\n",
       "      <td>-0.000033</td>\n",
       "      <td>0.167015</td>\n",
       "      <td>9.998260e-01</td>\n",
       "      <td>0.999923</td>\n",
       "    </tr>\n",
       "    <tr>\n",
       "      <th>20516</th>\n",
       "      <td>253018</td>\n",
       "      <td>7.162925</td>\n",
       "      <td>-0.000015</td>\n",
       "      <td>0.199487</td>\n",
       "      <td>9.999336e-01</td>\n",
       "      <td>0.999982</td>\n",
       "    </tr>\n",
       "    <tr>\n",
       "      <th>20517</th>\n",
       "      <td>440737</td>\n",
       "      <td>10.365751</td>\n",
       "      <td>0.000003</td>\n",
       "      <td>0.187502</td>\n",
       "      <td>9.999848e-01</td>\n",
       "      <td>0.999985</td>\n",
       "    </tr>\n",
       "  </tbody>\n",
       "</table>\n",
       "<p>20518 rows × 6 columns</p>\n",
       "</div>"
      ],
      "text/plain": [
       "       GeneID   meanExpr    log2FC  log2FC SE       p-value  adjpvalue\n",
       "0        4490   9.925881  3.935193   0.206737  9.842270e-11   0.000002\n",
       "1        4495   9.561522  4.109887   0.243653  3.924060e-10   0.000004\n",
       "2       79974   6.381454  2.532636   0.174021  2.094514e-09   0.000011\n",
       "3        4489  12.843381  2.498127   0.172052  2.150589e-09   0.000011\n",
       "4        1638   6.429810  2.349836   0.170834  3.954792e-09   0.000016\n",
       "...       ...        ...       ...        ...           ...        ...\n",
       "20513  391257   6.462645 -0.000055   0.146291  9.996750e-01   0.999870\n",
       "20514   10078   8.351476 -0.000037   0.128166  9.997478e-01   0.999894\n",
       "20515   84328   9.130185 -0.000033   0.167015  9.998260e-01   0.999923\n",
       "20516  253018   7.162925 -0.000015   0.199487  9.999336e-01   0.999982\n",
       "20517  440737  10.365751  0.000003   0.187502  9.999848e-01   0.999985\n",
       "\n",
       "[20518 rows x 6 columns]"
      ]
     },
     "execution_count": 9,
     "metadata": {},
     "output_type": "execute_result"
    }
   ],
   "source": [
    "df1 = pd.read_csv('topTable_Ag._.1.3_24 - H2O.control_.0.0_24-try.csv').dropna()\n",
    "df1"
   ]
  },
  {
   "cell_type": "markdown",
   "id": "4f891100-c995-471c-b37e-97f7a8e0d204",
   "metadata": {},
   "source": [
    "**Step 3.** The dataframe is reformatted so that the geneID and log2FC columns are kept. In this case, the log2FC used as the rank and thus the name of the column:log2FC is changed to 'Rank'."
   ]
  },
  {
   "cell_type": "code",
   "execution_count": null,
   "id": "89616dfd-4268-4c44-abb3-60d725ce5143",
   "metadata": {},
   "outputs": [
    {
     "data": {
      "text/html": [
       "<div>\n",
       "<style scoped>\n",
       "    .dataframe tbody tr th:only-of-type {\n",
       "        vertical-align: middle;\n",
       "    }\n",
       "\n",
       "    .dataframe tbody tr th {\n",
       "        vertical-align: top;\n",
       "    }\n",
       "\n",
       "    .dataframe thead th {\n",
       "        text-align: right;\n",
       "    }\n",
       "</style>\n",
       "<table border=\"1\" class=\"dataframe\">\n",
       "  <thead>\n",
       "    <tr style=\"text-align: right;\">\n",
       "      <th></th>\n",
       "      <th>GeneID</th>\n",
       "      <th>Rank</th>\n",
       "    </tr>\n",
       "  </thead>\n",
       "  <tbody>\n",
       "    <tr>\n",
       "      <th>0</th>\n",
       "      <td>4490</td>\n",
       "      <td>3.935193</td>\n",
       "    </tr>\n",
       "    <tr>\n",
       "      <th>1</th>\n",
       "      <td>4495</td>\n",
       "      <td>4.109887</td>\n",
       "    </tr>\n",
       "    <tr>\n",
       "      <th>2</th>\n",
       "      <td>79974</td>\n",
       "      <td>2.532636</td>\n",
       "    </tr>\n",
       "    <tr>\n",
       "      <th>3</th>\n",
       "      <td>4489</td>\n",
       "      <td>2.498127</td>\n",
       "    </tr>\n",
       "    <tr>\n",
       "      <th>4</th>\n",
       "      <td>1638</td>\n",
       "      <td>2.349836</td>\n",
       "    </tr>\n",
       "    <tr>\n",
       "      <th>...</th>\n",
       "      <td>...</td>\n",
       "      <td>...</td>\n",
       "    </tr>\n",
       "    <tr>\n",
       "      <th>20513</th>\n",
       "      <td>391257</td>\n",
       "      <td>-0.000055</td>\n",
       "    </tr>\n",
       "    <tr>\n",
       "      <th>20514</th>\n",
       "      <td>10078</td>\n",
       "      <td>-0.000037</td>\n",
       "    </tr>\n",
       "    <tr>\n",
       "      <th>20515</th>\n",
       "      <td>84328</td>\n",
       "      <td>-0.000033</td>\n",
       "    </tr>\n",
       "    <tr>\n",
       "      <th>20516</th>\n",
       "      <td>253018</td>\n",
       "      <td>-0.000015</td>\n",
       "    </tr>\n",
       "    <tr>\n",
       "      <th>20517</th>\n",
       "      <td>440737</td>\n",
       "      <td>0.000003</td>\n",
       "    </tr>\n",
       "  </tbody>\n",
       "</table>\n",
       "<p>20518 rows × 2 columns</p>\n",
       "</div>"
      ],
      "text/plain": [
       "       GeneID      Rank\n",
       "0        4490  3.935193\n",
       "1        4495  4.109887\n",
       "2       79974  2.532636\n",
       "3        4489  2.498127\n",
       "4        1638  2.349836\n",
       "...       ...       ...\n",
       "20513  391257 -0.000055\n",
       "20514   10078 -0.000037\n",
       "20515   84328 -0.000033\n",
       "20516  253018 -0.000015\n",
       "20517  440737  0.000003\n",
       "\n",
       "[20518 rows x 2 columns]"
      ]
     },
     "execution_count": 11,
     "metadata": {},
     "output_type": "execute_result"
    }
   ],
   "source": [
    "df2= df1[['GeneID','log2FC']]\n",
    "df3= df2.rename(columns={'log2FC':'Rank'})\n",
    "df3"
   ]
  },
  {
   "cell_type": "markdown",
   "id": "fcbaff2c-2607-437d-95a8-f9c22119ea3a",
   "metadata": {},
   "source": [
    "**Step 4.** The datatype of the first column of df3 is changed to a string as needed for the GSEA function we will use in section 1.4. The 'Rank' column will remain unnchanged as rank needs to remain numeric for the GSEA function. We also remove duplicates as duplicates will raise errors when running GSEA."
   ]
  },
  {
   "cell_type": "code",
   "execution_count": null,
   "id": "7dc7c84e-8062-4555-9ef8-8b4250f597af",
   "metadata": {},
   "outputs": [],
   "source": [
    "df3['GeneID']=df3['GeneID'].astype(str)\n",
    "ranking=df3.drop_duplicates(subset=\"GeneID\", keep=\"first\")"
   ]
  },
  {
   "cell_type": "markdown",
   "id": "adf297bd-c555-4d59-9163-e6669254c311",
   "metadata": {},
   "source": [
    "### Section 1.3 Selection of the geneset"
   ]
  },
  {
   "cell_type": "markdown",
   "id": "91b49c9c-5782-4d4e-9d32-0cd29b01355c",
   "metadata": {},
   "source": [
    "**Step 5.** Here, you can select the geneset of interest. The command below displays the available options. In this notebook, the ENTREZ ID version of WikiPathways 2024 Human will be used."
   ]
  },
  {
   "cell_type": "code",
   "execution_count": null,
   "id": "dedb7357-8e01-41cb-b123-ca7b79f83a11",
   "metadata": {},
   "outputs": [],
   "source": [
    "names = gp.get_library_name()"
   ]
  },
  {
   "cell_type": "markdown",
   "id": "1b985905-0a0f-414b-b7ce-f607ed4df438",
   "metadata": {},
   "source": [
    "### Section 1.4: Execution of preranked GSEA"
   ]
  },
  {
   "cell_type": "markdown",
   "id": "aef28afc-5e6d-4d70-bf74-7a5fb9006df6",
   "metadata": {},
   "source": [
    "**Step 6.** Preranked GSEA can be executed by selection of the RNK file and gene set. The seed, min_size, max_size and permutation number were set to those below in accordance with the formal documentation of GSEAPY. The permutation type was set to 'gene_set' as we have less than 15 samples and verbose was set to TRUE to get more insight into the GSEA process(1)."
   ]
  },
  {
   "cell_type": "code",
   "execution_count": null,
   "id": "87903865-6c3f-484d-83fe-6218373e9009",
   "metadata": {},
   "outputs": [
    {
     "name": "stderr",
     "output_type": "stream",
     "text": [
      "2025-02-25 21:00:27,262 [INFO] Parsing data files for GSEA.............................\n",
      "2025-02-25 21:00:27,340 [INFO] 0000 gene_sets have been filtered out when max_size=1000 and min_size=5\n",
      "2025-02-25 21:00:27,345 [INFO] 0830 gene_sets used for further statistical testing.....\n",
      "2025-02-25 21:00:27,347 [INFO] Start to run GSEA...Might take a while..................\n",
      "2025-02-25 21:01:46,007 [INFO] Congratulations. GSEApy runs successfully................\n",
      "\n"
     ]
    }
   ],
   "source": [
    "Preranked_GSEA= gp.prerank(rnk=ranking, \n",
    "                     gene_sets='c2.cp.wikipathways.v2024.1.Hs.entrez.gmt', \n",
    "                     min_size=5, \n",
    "                     max_size=1000, \n",
    "                     permutation_type='gene_set',\n",
    "                     seed=6, \n",
    "                     permutation_num=1000, \n",
    "                     verbose=True)"
   ]
  },
  {
   "cell_type": "markdown",
   "id": "028dfde3-19d8-4baf-8359-6f59ea4da211",
   "metadata": {},
   "source": [
    "**Step 7.** In the next step, the results are displayed and visualized."
   ]
  },
  {
   "cell_type": "code",
   "execution_count": null,
   "id": "2f671dca-2d43-4423-b89a-a2710e258eb4",
   "metadata": {},
   "outputs": [
    {
     "data": {
      "text/html": [
       "<div>\n",
       "<style scoped>\n",
       "    .dataframe tbody tr th:only-of-type {\n",
       "        vertical-align: middle;\n",
       "    }\n",
       "\n",
       "    .dataframe tbody tr th {\n",
       "        vertical-align: top;\n",
       "    }\n",
       "\n",
       "    .dataframe thead th {\n",
       "        text-align: right;\n",
       "    }\n",
       "</style>\n",
       "<table border=\"1\" class=\"dataframe\">\n",
       "  <thead>\n",
       "    <tr style=\"text-align: right;\">\n",
       "      <th></th>\n",
       "      <th>Name</th>\n",
       "      <th>Term</th>\n",
       "      <th>ES</th>\n",
       "      <th>NES</th>\n",
       "      <th>NOM p-val</th>\n",
       "      <th>FDR q-val</th>\n",
       "      <th>FWER p-val</th>\n",
       "      <th>Tag %</th>\n",
       "      <th>Gene %</th>\n",
       "      <th>Lead_genes</th>\n",
       "    </tr>\n",
       "  </thead>\n",
       "  <tbody>\n",
       "    <tr>\n",
       "      <th>0</th>\n",
       "      <td>prerank</td>\n",
       "      <td>WP_COPPER_HOMEOSTASIS</td>\n",
       "      <td>0.758562</td>\n",
       "      <td>2.676049</td>\n",
       "      <td>0.0</td>\n",
       "      <td>0.0</td>\n",
       "      <td>0.0</td>\n",
       "      <td>12/53</td>\n",
       "      <td>2.46%</td>\n",
       "      <td>4495;4490;4501;4489;4494;4496;4493;84560;4500;...</td>\n",
       "    </tr>\n",
       "    <tr>\n",
       "      <th>1</th>\n",
       "      <td>prerank</td>\n",
       "      <td>WP_ZINC_HOMEOSTASIS</td>\n",
       "      <td>0.816562</td>\n",
       "      <td>2.670822</td>\n",
       "      <td>0.0</td>\n",
       "      <td>0.0</td>\n",
       "      <td>0.0</td>\n",
       "      <td>15/37</td>\n",
       "      <td>5.27%</td>\n",
       "      <td>4495;4490;4501;4489;4494;7780;4496;7779;4493;8...</td>\n",
       "    </tr>\n",
       "    <tr>\n",
       "      <th>2</th>\n",
       "      <td>prerank</td>\n",
       "      <td>WP_GENES_RELATED_TO_PRIMARY_CILIUM_DEVELOPMENT...</td>\n",
       "      <td>-0.546802</td>\n",
       "      <td>-2.576323</td>\n",
       "      <td>0.0</td>\n",
       "      <td>0.0</td>\n",
       "      <td>0.0</td>\n",
       "      <td>60/101</td>\n",
       "      <td>27.17%</td>\n",
       "      <td>55764;8100;132320;23322;57539;23059;79659;5508...</td>\n",
       "    </tr>\n",
       "    <tr>\n",
       "      <th>3</th>\n",
       "      <td>prerank</td>\n",
       "      <td>WP_BARDETBIEDL_SYNDROME</td>\n",
       "      <td>-0.540727</td>\n",
       "      <td>-2.417239</td>\n",
       "      <td>0.0</td>\n",
       "      <td>0.0</td>\n",
       "      <td>0.0</td>\n",
       "      <td>42/86</td>\n",
       "      <td>20.25%</td>\n",
       "      <td>55764;132320;2736;5311;5727;57539;23059;79659;...</td>\n",
       "    </tr>\n",
       "    <tr>\n",
       "      <th>4</th>\n",
       "      <td>prerank</td>\n",
       "      <td>WP_CILIOPATHIES</td>\n",
       "      <td>-0.470576</td>\n",
       "      <td>-2.415103</td>\n",
       "      <td>0.0</td>\n",
       "      <td>0.0</td>\n",
       "      <td>0.0</td>\n",
       "      <td>78/181</td>\n",
       "      <td>20.38%</td>\n",
       "      <td>1063;55764;132320;4751;2736;5311;4867;219844;2...</td>\n",
       "    </tr>\n",
       "  </tbody>\n",
       "</table>\n",
       "</div>"
      ],
      "text/plain": [
       "      Name                                               Term        ES  \\\n",
       "0  prerank                              WP_COPPER_HOMEOSTASIS  0.758562   \n",
       "1  prerank                                WP_ZINC_HOMEOSTASIS  0.816562   \n",
       "2  prerank  WP_GENES_RELATED_TO_PRIMARY_CILIUM_DEVELOPMENT... -0.546802   \n",
       "3  prerank                            WP_BARDETBIEDL_SYNDROME -0.540727   \n",
       "4  prerank                                    WP_CILIOPATHIES -0.470576   \n",
       "\n",
       "        NES NOM p-val FDR q-val FWER p-val   Tag %  Gene %  \\\n",
       "0  2.676049       0.0       0.0        0.0   12/53   2.46%   \n",
       "1  2.670822       0.0       0.0        0.0   15/37   5.27%   \n",
       "2 -2.576323       0.0       0.0        0.0  60/101  27.17%   \n",
       "3 -2.417239       0.0       0.0        0.0   42/86  20.25%   \n",
       "4 -2.415103       0.0       0.0        0.0  78/181  20.38%   \n",
       "\n",
       "                                          Lead_genes  \n",
       "0  4495;4490;4501;4489;4494;4496;4493;84560;4500;...  \n",
       "1  4495;4490;4501;4489;4494;7780;4496;7779;4493;8...  \n",
       "2  55764;8100;132320;23322;57539;23059;79659;5508...  \n",
       "3  55764;132320;2736;5311;5727;57539;23059;79659;...  \n",
       "4  1063;55764;132320;4751;2736;5311;4867;219844;2...  "
      ]
     },
     "execution_count": 21,
     "metadata": {},
     "output_type": "execute_result"
    }
   ],
   "source": [
    "Preranked_GSEA.res2d.head(5)"
   ]
  },
  {
   "cell_type": "code",
   "execution_count": null,
   "id": "eb89955d-38e0-4f23-bd9c-7d2c6de5e8f4",
   "metadata": {},
   "outputs": [
    {
     "name": "stderr",
     "output_type": "stream",
     "text": [
      "C:\\Users\\shaki\\anaconda3\\Lib\\site-packages\\gseapy\\plot.py:738: FutureWarning: Downcasting behavior in `replace` is deprecated and will be removed in a future version. To retain the old behavior, explicitly call `result.infer_objects(copy=False)`. To opt-in to the future behavior, set `pd.set_option('future.no_silent_downcasting', True)`\n",
      "  df[self.colname] = df[self.colname].replace(0, np.nan).bfill()\n"
     ]
    },
    {
     "data": {
      "image/png": "[encoded data removed]",
      "text/plain": [
       "<Figure size 400x500 with 2 Axes>"
      ]
     },
     "metadata": {},
     "output_type": "display_data"
    }
   ],
   "source": [
    "ax1 = dotplot(Preranked_GSEA.res2d,\n",
    "             column=\"FDR q-val\",\n",
    "             title='Preranked GSEA',\n",
    "             cmap=plt.cm.viridis,\n",
    "             size=6, # adjust dot size\n",
    "             figsize=(4,5), cutoff=0.25, show_ring=False)"
   ]
  },
  {
   "cell_type": "markdown",
   "id": "34c4eb19-bdd2-4d73-9537-5d70a9754885",
   "metadata": {},
   "source": [
    "## Section 2: Traditional GSEA"
   ]
  },
  {
   "cell_type": "markdown",
   "id": "44f0197d-8ccd-4979-9ef0-2c221dc64fdf",
   "metadata": {},
   "source": [
    "In this section, traditional GSEA will be executed. This method allows for 5 ranking methods including: signal_to_noise, t_test, ratio_of_classes, diff_of_classes and log2_ratio_of_classes. In order to use this method, the following two files have to be prepared beforehand."
   ]
  },
  {
   "cell_type": "markdown",
   "id": "ff6b17ef-a66c-409c-8677-003ed52c8394",
   "metadata": {},
   "source": [
    "### Section 2.1 Generation of expression data frame"
   ]
  },
  {
   "cell_type": "markdown",
   "id": "3d731a02-d103-4c71-84d1-8e6dd1263e94",
   "metadata": {},
   "source": [
    "**Step 8.** Gene expression data dataframe will be generated in this step. The gene expression data file is a expression value table in which the sample names are placed horizontal and the gene names are placed vertical. This data was loaded and manipulated to meet GSEA guidelines."
   ]
  },
  {
   "cell_type": "code",
   "execution_count": null,
   "id": "cc719813-4ef0-486f-9bb9-3e1444260927",
   "metadata": {},
   "outputs": [],
   "source": [
    "df= pd.read_csv('TraditionalGSEA-EMEXP3583.csv')\n",
    "df.to_csv('TraditionalGSEA-EMEXP3583-version2.txt', sep='\\t',index=False)\n",
    "df2 = pd.read_csv(\"TraditionalGSEA-EMEXP3583-version2.txt\",sep=\"\\t\", index_col=0)\n",
    "df2 = df2.loc[:, ['M225-05', 'M225-01L', 'M225-03','M225-07']] \n",
    "TraditionalGSEA= df2.rename(columns={\"M225-05\": \"Control\", \"M225-01L\": \"Control\",\"M225-03\": \"Treatment\",\"M225-07\": \"Treatment\"})"
   ]
  },
  {
   "cell_type": "code",
   "execution_count": null,
   "id": "ed8146b5-59ef-4262-a9c3-98c5803b0908",
   "metadata": {},
   "outputs": [
    {
     "data": {
      "text/html": [
       "<div>\n",
       "<style scoped>\n",
       "    .dataframe tbody tr th:only-of-type {\n",
       "        vertical-align: middle;\n",
       "    }\n",
       "\n",
       "    .dataframe tbody tr th {\n",
       "        vertical-align: top;\n",
       "    }\n",
       "\n",
       "    .dataframe thead th {\n",
       "        text-align: right;\n",
       "    }\n",
       "</style>\n",
       "<table border=\"1\" class=\"dataframe\">\n",
       "  <thead>\n",
       "    <tr style=\"text-align: right;\">\n",
       "      <th></th>\n",
       "      <th>Control</th>\n",
       "      <th>Control</th>\n",
       "      <th>Treatment</th>\n",
       "      <th>Treatment</th>\n",
       "    </tr>\n",
       "    <tr>\n",
       "      <th>EntrezID</th>\n",
       "      <th></th>\n",
       "      <th></th>\n",
       "      <th></th>\n",
       "      <th></th>\n",
       "    </tr>\n",
       "  </thead>\n",
       "  <tbody>\n",
       "    <tr>\n",
       "      <th>1</th>\n",
       "      <td>7.941181</td>\n",
       "      <td>8.006905</td>\n",
       "      <td>7.990053</td>\n",
       "      <td>8.326014</td>\n",
       "    </tr>\n",
       "    <tr>\n",
       "      <th>10</th>\n",
       "      <td>4.473060</td>\n",
       "      <td>4.561733</td>\n",
       "      <td>4.546220</td>\n",
       "      <td>4.573649</td>\n",
       "    </tr>\n",
       "    <tr>\n",
       "      <th>100</th>\n",
       "      <td>10.246258</td>\n",
       "      <td>10.481636</td>\n",
       "      <td>10.297045</td>\n",
       "      <td>10.176861</td>\n",
       "    </tr>\n",
       "    <tr>\n",
       "      <th>1000</th>\n",
       "      <td>11.149919</td>\n",
       "      <td>11.145671</td>\n",
       "      <td>11.090569</td>\n",
       "      <td>11.116654</td>\n",
       "    </tr>\n",
       "    <tr>\n",
       "      <th>10000</th>\n",
       "      <td>10.274072</td>\n",
       "      <td>10.243285</td>\n",
       "      <td>10.226056</td>\n",
       "      <td>10.054899</td>\n",
       "    </tr>\n",
       "    <tr>\n",
       "      <th>...</th>\n",
       "      <td>...</td>\n",
       "      <td>...</td>\n",
       "      <td>...</td>\n",
       "      <td>...</td>\n",
       "    </tr>\n",
       "    <tr>\n",
       "      <th>9991</th>\n",
       "      <td>10.900741</td>\n",
       "      <td>10.551433</td>\n",
       "      <td>10.444575</td>\n",
       "      <td>10.473755</td>\n",
       "    </tr>\n",
       "    <tr>\n",
       "      <th>9992</th>\n",
       "      <td>5.068302</td>\n",
       "      <td>5.348781</td>\n",
       "      <td>5.664488</td>\n",
       "      <td>5.512333</td>\n",
       "    </tr>\n",
       "    <tr>\n",
       "      <th>9993</th>\n",
       "      <td>9.888579</td>\n",
       "      <td>10.014469</td>\n",
       "      <td>9.710480</td>\n",
       "      <td>9.798821</td>\n",
       "    </tr>\n",
       "    <tr>\n",
       "      <th>9994</th>\n",
       "      <td>7.720305</td>\n",
       "      <td>7.575626</td>\n",
       "      <td>7.660303</td>\n",
       "      <td>7.523620</td>\n",
       "    </tr>\n",
       "    <tr>\n",
       "      <th>9997</th>\n",
       "      <td>8.247325</td>\n",
       "      <td>8.484476</td>\n",
       "      <td>8.669681</td>\n",
       "      <td>8.838813</td>\n",
       "    </tr>\n",
       "  </tbody>\n",
       "</table>\n",
       "<p>20518 rows × 4 columns</p>\n",
       "</div>"
      ],
      "text/plain": [
       "            Control    Control  Treatment  Treatment\n",
       "EntrezID                                            \n",
       "1          7.941181   8.006905   7.990053   8.326014\n",
       "10         4.473060   4.561733   4.546220   4.573649\n",
       "100       10.246258  10.481636  10.297045  10.176861\n",
       "1000      11.149919  11.145671  11.090569  11.116654\n",
       "10000     10.274072  10.243285  10.226056  10.054899\n",
       "...             ...        ...        ...        ...\n",
       "9991      10.900741  10.551433  10.444575  10.473755\n",
       "9992       5.068302   5.348781   5.664488   5.512333\n",
       "9993       9.888579  10.014469   9.710480   9.798821\n",
       "9994       7.720305   7.575626   7.660303   7.523620\n",
       "9997       8.247325   8.484476   8.669681   8.838813\n",
       "\n",
       "[20518 rows x 4 columns]"
      ]
     },
     "execution_count": 28,
     "metadata": {},
     "output_type": "execute_result"
    }
   ],
   "source": [
    "TraditionalGSEA"
   ]
  },
  {
   "cell_type": "markdown",
   "id": "e2c0ea48-ddd6-4e16-bb39-e2af718c1296",
   "metadata": {},
   "source": [
    "### Section 2.2 Generation of the CLS file"
   ]
  },
  {
   "cell_type": "markdown",
   "id": "053c38f2-9ceb-441c-8a45-d650efa5023a",
   "metadata": {},
   "source": [
    "**Step 9.** The CLS file was created according to the GSEA guidelines. Based on the expression data, the following structure of the cls file was created and saved with a cls extension:\n",
    "\n",
    "CLS file structure:\n",
    "\n",
    "* First line : 4 2 1\n",
    "* Second line: # Control Treatment\n",
    "* Third line: 'Control' 'Control' 'Treatment' 'Treatment'"
   ]
  },
  {
   "cell_type": "code",
   "execution_count": null,
   "id": "6043a3a9-99c5-40b5-be44-eb2d0171be75",
   "metadata": {},
   "outputs": [],
   "source": [
    "with open(\"clsfile.cls\", \"w\") as file:\n",
    "    file.write(\"4 2 1\\n\")\n",
    "    file.write(\"# Control Treatment \\n\")\n",
    "    file.write(\"'Control' 'Control' 'Treatment' 'Treatment'\\n\")"
   ]
  },
  {
   "cell_type": "markdown",
   "id": "cff12456-b424-499f-9baf-3a61a5c2376c",
   "metadata": {},
   "source": [
    "### Section 2.3 Selection of the geneset"
   ]
  },
  {
   "cell_type": "markdown",
   "id": "a8bd23ec-1ebb-4eba-bc70-943cdc50fc70",
   "metadata": {},
   "source": [
    "In this section, the geneset of interest can be selected. In this notebook, the ENTREZ ID version of WikiPathways 2024 Human will be used."
   ]
  },
  {
   "cell_type": "markdown",
   "id": "91cd4df6-00e1-4f0c-acaa-2aef0be811a3",
   "metadata": {},
   "source": [
    "### Section 2.4 Execution of traditional GSEA"
   ]
  },
  {
   "cell_type": "markdown",
   "id": "d6f38973-371d-42bb-bf5f-1357b166b615",
   "metadata": {},
   "source": [
    "**Step 10.** Lastly traditional GSEA was executed. This requires setting the EntrezID as the index and maintenance of the same parameters as for preranked GSEA."
   ]
  },
  {
   "cell_type": "code",
   "execution_count": null,
   "id": "b8b8730d-47e4-417a-9c48-01574c1e9889",
   "metadata": {},
   "outputs": [],
   "source": [
    "TraditionalGSEA.reset_index('EntrezID', inplace=True)"
   ]
  },
  {
   "cell_type": "code",
   "execution_count": null,
   "id": "7ed1b75f-29ae-4ecb-824a-77576928a0e4",
   "metadata": {},
   "outputs": [],
   "source": [
    "TraditionalGSEA['EntrezID'] = TraditionalGSEA['EntrezID'].astype(str)"
   ]
  },
  {
   "cell_type": "code",
   "execution_count": null,
   "id": "5b568be3-c6a0-465e-890d-614f8ffccf6a",
   "metadata": {},
   "outputs": [
    {
     "name": "stderr",
     "output_type": "stream",
     "text": [
      "2025-02-25 21:01:51,956 [INFO] Parsing data files for GSEA.............................\n",
      "2025-02-25 21:01:52,125 [INFO] 0000 gene_sets have been filtered out when max_size=1000 and min_size=5\n",
      "2025-02-25 21:01:52,126 [INFO] 0830 gene_sets used for further statistical testing.....\n",
      "2025-02-25 21:01:52,131 [INFO] Start to run GSEA...Might take a while..................\n",
      "2025-02-25 21:03:58,705 [INFO] Congratulations. GSEApy ran successfully.................\n",
      "\n"
     ]
    }
   ],
   "source": [
    "GSEA = gp.gsea(data=TraditionalGSEA, \n",
    "                 gene_sets='c2.cp.wikipathways.v2024.1.Hs.entrez.gmt', \n",
    "                 cls= \"clsfile.cls\", \n",
    "                 min_size=5, \n",
    "                 max_size=1000,\n",
    "                 permutation_num=1000, \n",
    "                 permutation_type='gene_set',\n",
    "                 outdir=None,  \n",
    "                 method='log2_ratio_of_classes',\n",
    "                 threads=4, \n",
    "                 verbose=True,\n",
    "                 seed= 6)"
   ]
  },
  {
   "cell_type": "code",
   "execution_count": null,
   "id": "db514fc0-4e6f-4ed6-af63-d1a1852f05e0",
   "metadata": {},
   "outputs": [
    {
     "name": "stdout",
     "output_type": "stream",
     "text": [
      "   Name                                               Term        ES  \\\n",
      "0  gsea  WP_GENES_RELATED_TO_PRIMARY_CILIUM_DEVELOPMENT...  0.557377   \n",
      "1  gsea                                WP_ZINC_HOMEOSTASIS -0.775016   \n",
      "2  gsea                            WP_BARDETBIEDL_SYNDROME   0.50323   \n",
      "3  gsea                              WP_COPPER_HOMEOSTASIS -0.696479   \n",
      "4  gsea  WP_REGULATION_OF_SISTER_CHROMATID_SEPARATION_A...  0.720957   \n",
      "\n",
      "        NES NOM p-val FDR q-val FWER p-val   Tag %  Gene %  \\\n",
      "0  2.580045       0.0       0.0        0.0  50/101  21.25%   \n",
      "1 -2.319458       0.0       0.0        0.0   13/37   4.76%   \n",
      "2  2.290378       0.0  0.002076      0.002   40/86  19.31%   \n",
      "3  -2.19289       0.0       0.0        0.0   12/53   7.55%   \n",
      "4  2.130938       0.0  0.020764      0.029    4/14   4.81%   \n",
      "\n",
      "                                          Lead_genes  \n",
      "0  8100;55764;132320;23322;79659;57539;23059;1328...  \n",
      "1  4495;4490;4501;4489;7780;4496;4494;4493;84560;...  \n",
      "2  55764;132320;79659;2736;57539;5311;23059;13288...  \n",
      "3  4495;4490;4501;4489;4496;4494;4493;84560;4500;...  \n",
      "4                                 1062;9232;9700;699  \n"
     ]
    }
   ],
   "source": [
    "print(GSEA.res2d.head())  "
   ]
  },
  {
   "cell_type": "markdown",
   "id": "1cb1262c-c209-4a39-80ed-f1926b2e54be",
   "metadata": {},
   "source": [
    "**Step 11.** In the next step, the results are displayed and visualized."
   ]
  },
  {
   "cell_type": "code",
   "execution_count": null,
   "id": "02120c66-cb75-4f17-ab58-4dbfb7bc3c5c",
   "metadata": {},
   "outputs": [
    {
     "name": "stderr",
     "output_type": "stream",
     "text": [
      "C:\\Users\\shaki\\anaconda3\\Lib\\site-packages\\gseapy\\plot.py:738: FutureWarning: Downcasting behavior in `replace` is deprecated and will be removed in a future version. To retain the old behavior, explicitly call `result.infer_objects(copy=False)`. To opt-in to the future behavior, set `pd.set_option('future.no_silent_downcasting', True)`\n",
      "  df[self.colname] = df[self.colname].replace(0, np.nan).bfill()\n"
     ]
    },
    {
     "data": {
      "image/png": "[encoded data removed]",
      "text/plain": [
       "<Figure size 400x500 with 2 Axes>"
      ]
     },
     "metadata": {},
     "output_type": "display_data"
    }
   ],
   "source": [
    "ax2 = dotplot(GSEA.res2d,\n",
    "             column=\"FDR q-val\",\n",
    "             title='Traditional GSEA',\n",
    "             cmap=plt.cm.viridis,\n",
    "             size=6, # adjust dot size\n",
    "             figsize=(4,5), cutoff=0.25, show_ring=False)"
   ]
  },
  {
   "cell_type": "markdown",
   "id": "e57d6a92-2103-4e50-af79-5e1991e184c6",
   "metadata": {},
   "source": [
    "## Section 3: fGSEA"
   ]
  },
  {
   "cell_type": "markdown",
   "id": "9d8d7eab-215d-4303-be0a-2590a2377f4c",
   "metadata": {},
   "source": [
    "In this section, fast GSEA (fGSEA) will be executed which is a package developed by BioConductor. To be able to use this package in this notebook, rpy2 was employed."
   ]
  },
  {
   "cell_type": "markdown",
   "id": "38d69bf9-c496-412a-8dc7-8f2c8cf5f462",
   "metadata": {},
   "source": [
    "### Section 3.1 Magic R extension and system preparation"
   ]
  },
  {
   "cell_type": "markdown",
   "id": "3c5a25e9-858a-48f2-bad2-df4663df3500",
   "metadata": {},
   "source": [
    "**Step 12.** We first activate rpy2 in this notebook. If a Windows laptop is used, the the warning 'quartz' may appear which can be ignored."
   ]
  },
  {
   "cell_type": "code",
   "execution_count": null,
   "id": "6df2ceba-37c3-423b-a148-96bd6cf95fd2",
   "metadata": {},
   "outputs": [
    {
     "name": "stderr",
     "output_type": "stream",
     "text": [
      "C:\\Users\\shaki\\anaconda3\\Lib\\site-packages\\rpy2\\robjects\\packages.py:367: UserWarning: The symbol 'quartz' is not in this R namespace/package.\n",
      "  warnings.warn(\n"
     ]
    }
   ],
   "source": [
    "%load_ext rpy2.ipython"
   ]
  },
  {
   "cell_type": "markdown",
   "id": "965d860c-9762-43d1-958b-c8ae475c82d9",
   "metadata": {},
   "source": [
    "**Step 13**. Next, the needed packages for fGSEA are installed. Dpending on the user's background and possible prior experience with R, notifications for updating packages may appear. These notifications can be answered at users discretion."
   ]
  },
  {
   "cell_type": "code",
   "execution_count": null,
   "id": "98c0298a-5afd-4c77-907d-f248035f6285",
   "metadata": {},
   "outputs": [
    {
     "name": "stderr",
     "output_type": "stream",
     "text": [
      "R[write to console]: Bioconductor version 3.20 (BiocManager 1.30.25), R 4.4.1 (2024-06-14 ucrt)\n",
      "\n",
      "R[write to console]: Bioconductor version 3.20 (BiocManager 1.30.25), R 4.4.1 (2024-06-14 ucrt)\n",
      "\n",
      "R[write to console]: Installation paths not writeable, unable to update packages\n",
      "  path: C:/Program Files/R/R-4.4.1/library\n",
      "  packages:\n",
      "    class, cluster, foreign, KernSmooth, MASS, Matrix, nlme, nnet, rpart,\n",
      "    spatial, survival\n",
      "\n",
      "R[write to console]: Old packages: 'Biostrings', 'cli', 'data.table', 'ggnewscale', 'igraph',\n",
      "  'IRanges', 'jsonlite', 'processx', 'R.utils', 'rlang', 'S4Vectors',\n",
      "  'XVector', 'zlibbioc'\n",
      "\n"
     ]
    },
    {
     "name": "stdout",
     "output_type": "stream",
     "text": [
      "Update all/some/none? [a/s/n]: "
     ]
    },
    {
     "name": "stdout",
     "output_type": "stream",
     "text": [
      " n\n"
     ]
    }
   ],
   "source": [
    "%%R \n",
    "if (!require(\"BiocManager\", quietly = TRUE))\n",
    "    install.packages(\"BiocManager\")\n",
    "\n",
    "BiocManager::install(\"clusterProfiler\")"
   ]
  },
  {
   "cell_type": "code",
   "execution_count": null,
   "id": "79f29980-c0cf-465a-9d0d-e43c8b30e371",
   "metadata": {},
   "outputs": [
    {
     "name": "stderr",
     "output_type": "stream",
     "text": [
      "R[write to console]: Bioconductor version 3.20 (BiocManager 1.30.25), R 4.4.1 (2024-06-14 ucrt)\n",
      "\n",
      "R[write to console]: Installation paths not writeable, unable to update packages\n",
      "  path: C:/Program Files/R/R-4.4.1/library\n",
      "  packages:\n",
      "    class, cluster, foreign, KernSmooth, MASS, Matrix, nlme, nnet, rpart,\n",
      "    spatial, survival\n",
      "\n",
      "R[write to console]: Old packages: 'Biostrings', 'cli', 'data.table', 'ggnewscale', 'igraph',\n",
      "  'IRanges', 'jsonlite', 'processx', 'R.utils', 'rlang', 'S4Vectors',\n",
      "  'XVector', 'zlibbioc'\n",
      "\n"
     ]
    },
    {
     "name": "stdout",
     "output_type": "stream",
     "text": [
      "Update all/some/none? [a/s/n]: "
     ]
    },
    {
     "name": "stdout",
     "output_type": "stream",
     "text": [
      " n\n"
     ]
    }
   ],
   "source": [
    "%%R \n",
    "if (!require(\"BiocManager\", quietly = TRUE))\n",
    "    install.packages(\"BiocManager\")\n",
    "\n",
    "BiocManager::install(\"fgsea\")"
   ]
  },
  {
   "cell_type": "code",
   "execution_count": null,
   "id": "6594daca-aa40-483f-b62d-f520b6be3f3c",
   "metadata": {},
   "outputs": [
    {
     "name": "stderr",
     "output_type": "stream",
     "text": [
      "R[write to console]: Installing packages into 'C:/Users/shaki/AppData/Local/R/win-library/4.4'\n",
      "(as 'lib' is unspecified)\n",
      "\n"
     ]
    },
    {
     "name": "stdout",
     "output_type": "stream",
     "text": [
      "--- Please select a CRAN mirror for use in this session ---\n",
      "\n",
      "  There is a binary version available but the source version is later:\n",
      "           binary source needs_compilation\n",
      "data.table 1.16.4 1.17.0              TRUE\n",
      "\n"
     ]
    },
    {
     "name": "stdout",
     "output_type": "stream",
     "text": [
      "Do you want to install from sources the package which needs compilation? (Yes/no/cancel)  n\n"
     ]
    },
    {
     "name": "stderr",
     "output_type": "stream",
     "text": [
      "R[write to console]: trying URL 'https://mirror.lyrahosting.com/CRAN/bin/windows/contrib/4.4/readr_2.1.5.zip'\n",
      "\n",
      "R[write to console]: Content type 'application/zip'\n",
      "R[write to console]:  length 1223109 bytes (1.2 MB)\n",
      "\n",
      "R[write to console]: downloaded 1.2 MB\n",
      "\n",
      "\n",
      "R[write to console]: trying URL 'https://mirror.lyrahosting.com/CRAN/bin/windows/contrib/4.4/ggplot2_3.5.1.zip'\n",
      "\n",
      "R[write to console]: Content type 'application/zip'\n",
      "R[write to console]:  length 5021005 bytes (4.8 MB)\n",
      "\n",
      "R[write to console]: downloaded 4.8 MB\n",
      "\n",
      "\n",
      "R[write to console]: trying URL 'https://mirror.lyrahosting.com/CRAN/bin/windows/contrib/4.4/data.table_1.16.4.zip'\n",
      "\n",
      "R[write to console]: Content type 'application/zip'\n",
      "R[write to console]:  length 2669300 bytes (2.5 MB)\n",
      "\n",
      "R[write to console]: downloaded 2.5 MB\n",
      "\n",
      "\n",
      "R[write to console]: trying URL 'https://mirror.lyrahosting.com/CRAN/bin/windows/contrib/4.4/dplyr_1.1.4.zip'\n",
      "\n",
      "R[write to console]: Content type 'application/zip'\n",
      "R[write to console]:  length 1590307 bytes (1.5 MB)\n",
      "\n",
      "R[write to console]: downloaded 1.5 MB\n",
      "\n",
      "\n"
     ]
    },
    {
     "name": "stdout",
     "output_type": "stream",
     "text": [
      "package 'readr' successfully unpacked and MD5 sums checked\n"
     ]
    },
    {
     "name": "stderr",
     "output_type": "stream",
     "text": [
      "R[write to console]: Warning:\n",
      "R[write to console]:  cannot remove prior installation of package 'readr'\n",
      "\n",
      "R[write to console]: Warning:\n",
      "R[write to console]:  restored 'readr'\n",
      "\n"
     ]
    },
    {
     "name": "stdout",
     "output_type": "stream",
     "text": [
      "package 'ggplot2' successfully unpacked and MD5 sums checked\n",
      "package 'data.table' successfully unpacked and MD5 sums checked\n"
     ]
    },
    {
     "name": "stderr",
     "output_type": "stream",
     "text": [
      "R[write to console]: Warning:\n",
      "R[write to console]:  cannot remove prior installation of package 'data.table'\n",
      "\n",
      "R[write to console]: Warning:\n",
      "R[write to console]:  restored 'data.table'\n",
      "\n"
     ]
    },
    {
     "name": "stdout",
     "output_type": "stream",
     "text": [
      "package 'dplyr' successfully unpacked and MD5 sums checked\n"
     ]
    },
    {
     "name": "stderr",
     "output_type": "stream",
     "text": [
      "R[write to console]: Warning:\n",
      "R[write to console]:  cannot remove prior installation of package 'dplyr'\n",
      "\n",
      "R[write to console]: Warning:\n",
      "R[write to console]:  restored 'dplyr'\n",
      "\n"
     ]
    },
    {
     "name": "stdout",
     "output_type": "stream",
     "text": [
      "\n",
      "The downloaded binary packages are in\n",
      "\tC:\\Users\\shaki\\AppData\\Local\\Temp\\RtmpMHB3pO\\downloaded_packages\n"
     ]
    }
   ],
   "source": [
    "%%R\n",
    "install.packages(c (\"readr\",\"ggplot2\",\"data.table\",\"dplyr\"))"
   ]
  },
  {
   "cell_type": "markdown",
   "id": "3d9e720b-b073-4f7d-995a-67eea55d94f8",
   "metadata": {},
   "source": [
    "**Step 14**. Next, the installed libraries are loaded prior to use."
   ]
  },
  {
   "cell_type": "code",
   "execution_count": null,
   "id": "9d3c6052-705b-460a-8378-2f523608f168",
   "metadata": {},
   "outputs": [
    {
     "name": "stderr",
     "output_type": "stream",
     "text": [
      "R[write to console]: data.table 1.16.4 using 4 threads (see ?getDTthreads).  \n",
      "R[write to console]: Latest news: r-datatable.com\n",
      "\n",
      "R[write to console]: \n",
      "\n",
      "R[write to console]: clusterProfiler v4.14.4 Learn more at https://yulab-smu.top/contribution-knowledge-mining/\n",
      "\n",
      "Please cite:\n",
      "\n",
      "S Xu, E Hu, Y Cai, Z Xie, X Luo, L Zhan, W Tang, Q Wang, B Liu, R Wang,\n",
      "W Xie, T Wu, L Xie, G Yu. Using clusterProfiler to characterize\n",
      "multiomics data. Nature Protocols. 2024, 19(11):3292-3320\n",
      "\n",
      "R[write to console]: \n",
      "Attaching package: 'clusterProfiler'\n",
      "\n",
      "\n",
      "R[write to console]: The following object is masked from 'package:stats':\n",
      "\n",
      "    filter\n",
      "\n",
      "\n",
      "R[write to console]: \n",
      "Attaching package: 'dplyr'\n",
      "\n",
      "\n",
      "R[write to console]: The following objects are masked from 'package:data.table':\n",
      "\n",
      "    between, first, last\n",
      "\n",
      "\n",
      "R[write to console]: The following objects are masked from 'package:stats':\n",
      "\n",
      "    filter, lag\n",
      "\n",
      "\n",
      "R[write to console]: The following objects are masked from 'package:base':\n",
      "\n",
      "    intersect, setdiff, setequal, union\n",
      "\n",
      "\n"
     ]
    }
   ],
   "source": [
    "%%R\n",
    "library(fgsea)\n",
    "library(ggplot2)\n",
    "library(data.table)\n",
    "library(readr)\n",
    "library(clusterProfiler)\n",
    "library(dplyr)"
   ]
  },
  {
   "cell_type": "markdown",
   "id": "66bf2666-5ecf-4ae1-9735-2064221fdf54",
   "metadata": {},
   "source": [
    "### Section 3.2 Execution of fGSEA"
   ]
  },
  {
   "cell_type": "markdown",
   "id": "88147c66-fab6-4308-8b1f-33b39785032f",
   "metadata": {},
   "source": [
    "**Step 15**. fGSEA can be executed by first loading the data. At this step, the rankData variable name will be created which contains the GeneID and log2FC column of data."
   ]
  },
  {
   "cell_type": "code",
   "execution_count": null,
   "id": "a641a580-5e57-4de8-ade7-81a2aa1c78e2",
   "metadata": {},
   "outputs": [
    {
     "name": "stderr",
     "output_type": "stream",
     "text": [
      "R[write to console]: \n",
      "R[write to console]: \u001b[1mindexing\u001b[0m \u001b[34mtopTable_Ag._.1.3_24 - H2O.control_.0.0_24-try.csv\u001b[0m [] \u001b[32m2.15GB/s\u001b[0m, eta: \u001b[36m 0s\u001b[0m\n",
      "                                                                                                                   \n",
      "R[write to console]: \n"
     ]
    },
    {
     "name": "stdout",
     "output_type": "stream",
     "text": [
      "    4490     4495    79974     4489     1638     4501 \n",
      "3.935193 4.109887 2.532636 2.498127 2.349836 2.727981 \n"
     ]
    }
   ],
   "source": [
    "%%R\n",
    "data <- read_csv('topTable_Ag._.1.3_24 - H2O.control_.0.0_24-try.csv',show_col_types = FALSE)\n",
    "rankData <- data$log2FC\n",
    "names(rankData) <- data$GeneID\n",
    "head(rankData)"
   ]
  },
  {
   "cell_type": "markdown",
   "id": "4c693d9c-ff0a-4914-a979-4f61741f1729",
   "metadata": {},
   "source": [
    "**Step 16**. Next, the geneset of interest is read into the variable name: 'pathway'."
   ]
  },
  {
   "cell_type": "code",
   "execution_count": null,
   "id": "da3cebb1-77f4-4328-bc30-cfcb67de5751",
   "metadata": {},
   "outputs": [],
   "source": [
    "%%R\n",
    "pathway <- gmtPathways(\"./c2.cp.wikipathways.v2024.1.Hs.entrez.gmt\")"
   ]
  },
  {
   "cell_type": "markdown",
   "id": "c8f475bc-7b04-486f-a90f-f9bc2fd7dcad",
   "metadata": {},
   "source": [
    "**Step 17**. Lastly, fgGSEA is run and results are displayed. Based on the NES and ES scores, we can see strong similarity to the values observed for the preranked GSEA."
   ]
  },
  {
   "cell_type": "code",
   "execution_count": null,
   "id": "dcacff9f-8194-439d-8f3d-dcbc9a87288f",
   "metadata": {},
   "outputs": [
    {
     "name": "stdout",
     "output_type": "stream",
     "text": [
      "                                                           pathway         pval\n",
      "                                                            <char>        <num>\n",
      " 1:                                            WP_ZINC_HOMEOSTASIS 1.715256e-13\n",
      " 2:                                          WP_COPPER_HOMEOSTASIS 2.229878e-14\n",
      " 3: WP_GENES_RELATED_TO_PRIMARY_CILIUM_DEVELOPMENT_BASED_ON_CRISPR 4.747281e-11\n",
      " 4:                                        WP_BARDETBIEDL_SYNDROME 2.087828e-09\n",
      " 5:                                                WP_CILIOPATHIES 8.812615e-13\n",
      " 6:                               WP_RETINOBLASTOMA_GENE_IN_CANCER 3.582750e-07\n",
      " 7:                                            WP_JOUBERT_SYNDROME 2.022087e-06\n",
      " 8:                                                  WP_CELL_CYCLE 6.050233e-07\n",
      " 9:                                           WP_CILIARY_LANDSCAPE 8.578908e-09\n",
      "10:       WP_OVERVIEW_OF_PROINFLAMMATORY_AND_PROFIBROTIC_MEDIATORS 4.518534e-06\n",
      "            padj   log2err         ES       NES  size  leadingEdge\n",
      "           <num>     <num>      <num>     <num> <int>       <list>\n",
      " 1: 6.106313e-11 0.9436322  0.8165622  2.692086    37 4495, 44....\n",
      " 2: 1.587673e-11 0.9759947  0.7585618  2.683407    53 4495, 44....\n",
      " 3: 8.450161e-09 0.8513391 -0.5468024 -2.542649   101 55764, 8....\n",
      " 4: 2.973067e-07 0.7749390 -0.5407270 -2.425797    86 55764, 1....\n",
      " 5: 2.091527e-10 0.9214260 -0.4705761 -2.397908   181 1063, 55....\n",
      " 6: 3.644169e-05 0.6749629 -0.4887608 -2.198260    87 891, 241....\n",
      " 7: 1.599696e-04 0.6272567 -0.4782106 -2.118937    76 4646, 48....\n",
      " 8: 5.384707e-05 0.6594444 -0.4340094 -2.085527   119 891, 534....\n",
      " 9: 1.018030e-06 0.7477397 -0.3807739 -1.963578   210 3934, 55....\n",
      "10: 3.217196e-04 0.6105269  0.4737143  1.927725   124 6375, 63....\n"
     ]
    }
   ],
   "source": [
    "%%R\n",
    "fgseaRes <- fgseaMultilevel(pathway, \n",
    "                  rankData, \n",
    "                  minSize=10, \n",
    "                  maxSize = 500)\n",
    "\n",
    "fgseaRes %>% \n",
    "  arrange(desc(abs(NES))) %>% \n",
    "  top_n(10, -padj)"
   ]
  },
  {
   "cell_type": "code",
   "execution_count": null,
   "id": "addd81bf",
   "metadata": {},
   "outputs": [],
   "source": [
    "%%R\n",
    "\n",
    "topPathwaysUp <- fgseaRes[ES > 0][head(order(pval), n=10), pathway]\n",
    "topPathwaysDown <- fgseaRes[ES < 0][head(order(pval), n=10), pathway]\n",
    "topPathways <- c(topPathwaysUp, rev(topPathwaysDown))\n",
    "plotGseaTable(pathway[topPathways], rankData, fgseaRes, gseaParam=0.5)"
   ]
  },
  {
   "cell_type": "markdown",
   "id": "5352847c-209e-4473-9e6b-b0891f0dcfbe",
   "metadata": {},
   "source": [
    "**Conclusion:** *Using both methods of GSEA in GSEApy revealed that the ranking method affects the pattern in NES scores. Besides the debate on the best ranking method, the internal ranking in the traditional GSEA yields a different pattern compared to the explicit usage of log2FC in preranked GSEA. To further confirm the findings, fGSEA was executed which yielded NES scores and ES scores similar to preranked GSEA. The usage of logFC explicitly in preranked GSEA appears more in line with findings from other GSEA packages and descriptions of GSEA tutorials.*"
   ]
  },
  {
   "cell_type": "markdown",
   "id": "e879b628-82df-4b2d-9ab7-980e3e5d3fff",
   "metadata": {},
   "source": [
    "## Section 4. Session information for Python and R"
   ]
  },
  {
   "cell_type": "markdown",
   "id": "59d86c35-8031-4416-a84c-c72b17d415a2",
   "metadata": {},
   "source": [
    "In this section, the session information for both Python and R used in this notebook will be displayed."
   ]
  },
  {
   "cell_type": "markdown",
   "id": "12c95b12-9792-4595-b1ad-4895d9cf25d8",
   "metadata": {},
   "source": [
    "### Section 4.1: Python session information"
   ]
  },
  {
   "cell_type": "code",
   "execution_count": null,
   "id": "6fc0fb6a-efa3-4c82-81b2-062ecf260b4b",
   "metadata": {},
   "outputs": [
    {
     "name": "stdout",
     "output_type": "stream",
     "text": [
      "Last updated: 2025-02-25T21:10:34.996612+01:00\n",
      "\n",
      "Python implementation: CPython\n",
      "Python version       : 3.12.3\n",
      "IPython version      : 8.25.0\n",
      "\n",
      "Compiler    : MSC v.1938 64 bit (AMD64)\n",
      "OS          : Windows\n",
      "Release     : 11\n",
      "Machine     : AMD64\n",
      "Processor   : Intel64 Family 6 Model 140 Stepping 1, GenuineIntel\n",
      "CPU cores   : 8\n",
      "Architecture: 64bit\n",
      "\n"
     ]
    }
   ],
   "source": [
    "%load_ext watermark\n",
    "%watermark"
   ]
  },
  {
   "cell_type": "markdown",
   "id": "ef2d4a03-7796-4b47-86b2-35cb4ec6d16a",
   "metadata": {},
   "source": [
    "### Section 4.2: R session information"
   ]
  },
  {
   "cell_type": "code",
   "execution_count": null,
   "id": "0eb5ef28-b3b9-4d53-9646-5636b963e9f1",
   "metadata": {},
   "outputs": [
    {
     "name": "stdout",
     "output_type": "stream",
     "text": [
      "R version 4.4.1 (2024-06-14 ucrt)\n",
      "Platform: x86_64-w64-mingw32/x64\n",
      "Running under: Windows 11 x64 (build 26100)\n",
      "\n",
      "Matrix products: default\n",
      "\n",
      "\n",
      "locale:\n",
      "[1] LC_COLLATE=Dutch_Netherlands.1252  LC_CTYPE=Dutch_Netherlands.1252   \n",
      "[3] LC_MONETARY=Dutch_Netherlands.1252 LC_NUMERIC=C                      \n",
      "[5] LC_TIME=Dutch_Netherlands.1252    \n",
      "\n",
      "time zone: Europe/Amsterdam\n",
      "tzcode source: internal\n",
      "\n",
      "attached base packages:\n",
      "[1] tools     stats     graphics  grDevices utils     datasets  methods  \n",
      "[8] base     \n",
      "\n",
      "other attached packages:\n",
      "[1] dplyr_1.1.4            clusterProfiler_4.14.4 readr_2.1.5           \n",
      "[4] data.table_1.16.4      ggplot2_3.5.1          fgsea_1.32.2          \n",
      "[7] BiocManager_1.30.25   \n",
      "\n",
      "loaded via a namespace (and not attached):\n",
      " [1] tidyselect_1.2.1        farver_2.1.2            blob_1.2.4             \n",
      " [4] R.utils_2.12.3          Biostrings_2.73.2       lazyeval_0.2.2         \n",
      " [7] fastmap_1.2.0           digest_0.6.37           lifecycle_1.0.4        \n",
      "[10] KEGGREST_1.46.0         tidytree_0.4.6          RSQLite_2.3.9          \n",
      "[13] magrittr_2.0.3          compiler_4.4.1          rlang_1.1.4            \n",
      "[16] igraph_2.1.3            ggtangle_0.0.6          bit_4.5.0.1            \n",
      "[19] gson_0.1.0              plyr_1.8.9              RColorBrewer_1.1-3     \n",
      "[22] aplot_0.2.4             BiocParallel_1.40.0     purrr_1.0.4            \n",
      "[25] withr_3.0.2             BiocGenerics_0.52.0     R.oo_1.27.0            \n",
      "[28] grid_4.4.1              stats4_4.4.1            GOSemSim_2.32.0        \n",
      "[31] enrichplot_1.26.6       colorspace_2.1-1        GO.db_3.20.0           \n",
      "[34] scales_1.3.0            cli_3.6.3               crayon_1.5.3           \n",
      "[37] treeio_1.30.0           generics_0.1.3          ggtree_3.14.0          \n",
      "[40] httr_1.4.7              reshape2_1.4.4          tzdb_0.4.0             \n",
      "[43] ape_5.8-1               DBI_1.2.3               qvalue_2.38.0          \n",
      "[46] cachem_1.1.0            DOSE_4.0.0              stringr_1.5.1          \n",
      "[49] zlibbioc_1.51.2         splines_4.4.1           parallel_4.4.1         \n",
      "[52] ggplotify_0.1.2         AnnotationDbi_1.68.0    XVector_0.45.0         \n",
      "[55] vctrs_0.6.5             yulab.utils_0.2.0       Matrix_1.7-1           \n",
      "[58] jsonlite_1.8.9          gridGraphics_0.5-1      IRanges_2.39.2         \n",
      "[61] hms_1.1.3               patchwork_1.3.0         S4Vectors_0.43.2       \n",
      "[64] ggrepel_0.9.6           bit64_4.6.0-1           tidyr_1.3.1            \n",
      "[67] snow_0.4-4              glue_1.8.0              codetools_0.2-20       \n",
      "[70] cowplot_1.1.3           stringi_1.8.4           gtable_0.3.6           \n",
      "[73] GenomeInfoDb_1.42.3     UCSC.utils_1.2.0        munsell_0.5.1          \n",
      "[76] tibble_3.2.1            pillar_1.10.1           GenomeInfoDbData_1.2.13\n",
      "[79] R6_2.6.1                vroom_1.6.5             lattice_0.22-6         \n",
      "[82] Biobase_2.66.0          R.methodsS3_1.8.2       png_0.1-8              \n",
      "[85] memoise_2.0.1           ggfun_0.1.8             Rcpp_1.0.14            \n",
      "[88] fastmatch_1.1-6         nlme_3.1-166            fs_1.6.5               \n",
      "[91] pkgconfig_2.0.3        \n"
     ]
    }
   ],
   "source": [
    "%%R\n",
    "sessionInfo()"
   ]
  },
  {
   "cell_type": "markdown",
   "id": "7820111c-2716-4cec-b48b-0599f274fa1c",
   "metadata": {},
   "source": [
    "**References:**\n",
    "\n",
    "1. Zhuoqing Fang, Xinyuan Liu, Gary Peltz, GSEApy: a comprehensive package for performing gene set enrichment analysis in Python, Bioinformatics, Volume 39, Issue January 2023, btac757, https://doi.org/10.1093/bioinformatics/btac757\n",
    "2. Korotkevich G, Sukhov V, Sergushichev A (2019). “Fast gene set enrichment analysis.” bioRxiv. doi:10.1101/060012, http://biorxiv.org/content/early/2016/06/20/060012.\n"
   ]
  }
 ],
 "metadata": {
  "kernelspec": {
   "display_name": "Python 3 (ipykernel)",
   "language": "python",
   "name": "python3"
  },
  "language_info": {
   "codemirror_mode": {
    "name": "ipython",
    "version": 3
   },
   "file_extension": ".py",
   "mimetype": "text/x-python",
   "name": "python",
   "nbconvert_exporter": "python",
   "pygments_lexer": "ipython3",
   "version": "3.12.3"
  }
 },
 "nbformat": 4,
 "nbformat_minor": 5
}
